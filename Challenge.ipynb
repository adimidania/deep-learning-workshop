{
 "cells": [
  {
   "cell_type": "code",
   "execution_count": 1,
   "id": "81bf697f",
   "metadata": {},
   "outputs": [
    {
     "name": "stdout",
     "output_type": "stream",
     "text": [
      "Requirement already satisfied: keras in c:\\users\\at\\anaconda3\\envs\\tensorflow\\lib\\site-packages (2.7.0)\n"
     ]
    }
   ],
   "source": [
    "!pip install keras"
   ]
  },
  {
   "cell_type": "markdown",
   "id": "7b287629",
   "metadata": {},
   "source": [
    "# Deep Neural Network for Image Classification (multi-class classification)"
   ]
  },
  {
   "cell_type": "markdown",
   "id": "f20b22b3",
   "metadata": {},
   "source": [
    "## 1 - Packages"
   ]
  },
  {
   "cell_type": "code",
   "execution_count": 1,
   "id": "76fec2d0",
   "metadata": {},
   "outputs": [],
   "source": [
    "import matplotlib.pyplot as plt\n",
    "import numpy as np"
   ]
  },
  {
   "cell_type": "code",
   "execution_count": 2,
   "id": "b2dfe6a3",
   "metadata": {},
   "outputs": [],
   "source": [
    "from keras.layers import Dense\n",
    "from keras.layers import Flatten\n",
    "from keras.models import Sequential"
   ]
  },
  {
   "cell_type": "code",
   "execution_count": 3,
   "id": "ab0698a1",
   "metadata": {},
   "outputs": [],
   "source": [
    "import tensorflow.keras.datasets"
   ]
  },
  {
   "cell_type": "markdown",
   "id": "37b074de",
   "metadata": {},
   "source": [
    "## 2 - Dataset"
   ]
  },
  {
   "cell_type": "code",
   "execution_count": 4,
   "id": "b84e9c74",
   "metadata": {},
   "outputs": [],
   "source": [
    "dataset = tensorflow.keras.datasets.mnist        # tf.keras.datasets from the keras API' Loads the MNIST dataset\n",
    "(training_images, labels_train), (test_images, labels_test) = dataset = tensorflow.keras.datasets.mnist.load_data()"
   ]
  },
  {
   "cell_type": "code",
   "execution_count": 5,
   "id": "4d2d080f",
   "metadata": {},
   "outputs": [
    {
     "name": "stdout",
     "output_type": "stream",
     "text": [
      "This image represents a : 3\n"
     ]
    },
    {
     "data": {
      "image/png": "[encoded data removed]",
      "text/plain": [
       "<Figure size 432x288 with 1 Axes>"
      ]
     },
     "metadata": {
      "needs_background": "light"
     },
     "output_type": "display_data"
    }
   ],
   "source": [
    "# Example of a picture\n",
    "index = 50000\n",
    "plt.imshow(training_images[index], cmap = plt.cm.binary)\n",
    "print (\"This image represents a : \" + str(labels_train[index]))"
   ]
  },
  {
   "cell_type": "code",
   "execution_count": 6,
   "id": "22cb458d",
   "metadata": {},
   "outputs": [
    {
     "name": "stdout",
     "output_type": "stream",
     "text": [
      "Number of training examples: 60000\n",
      "Number of test examples: 10000\n",
      "Each image is of size: (28, 28)\n"
     ]
    }
   ],
   "source": [
    "# Explore your dataset \n",
    "print(\"Number of training examples: \" + str(training_images.shape[0]))\n",
    "print(\"Number of test examples: \" + str(test_images.shape[0]))\n",
    "print(\"Each image is of size: (\" + str(test_images.shape[1]) + \", \" + str(test_images.shape[1])+\")\")"
   ]
  },
  {
   "cell_type": "markdown",
   "id": "694ebeb3",
   "metadata": {},
   "source": [
    "## 3 - Preprocessing the dataset"
   ]
  },
  {
   "cell_type": "code",
   "execution_count": 7,
   "id": "9b152818",
   "metadata": {},
   "outputs": [],
   "source": [
    "import tensorflow.keras.utils"
   ]
  },
  {
   "cell_type": "code",
   "execution_count": 8,
   "id": "6dafb33a",
   "metadata": {},
   "outputs": [],
   "source": [
    "training_images = tensorflow.keras.utils.normalize(training_images, axis=1)\n",
    "test_images = tensorflow.keras.utils.normalize(test_images, axis=1)"
   ]
  },
  {
   "cell_type": "code",
   "execution_count": 9,
   "id": "b304a71c",
   "metadata": {},
   "outputs": [
    {
     "name": "stdout",
     "output_type": "stream",
     "text": [
      "After preprocessing the image represents a : 3\n"
     ]
    },
    {
     "data": {
      "image/png": "[encoded data removed]",
      "text/plain": [
       "<Figure size 432x288 with 1 Axes>"
      ]
     },
     "metadata": {
      "needs_background": "light"
     },
     "output_type": "display_data"
    }
   ],
   "source": [
    "## Curious about how the image looks after dividing all the metrics by 256 :p\n",
    "plt.imshow(training_images[50000], cmap = plt.cm.binary)\n",
    "print (\"After preprocessing the image represents a : \" + str(labels_train[50000]))"
   ]
  },
  {
   "cell_type": "markdown",
   "id": "a86f1dc5",
   "metadata": {},
   "source": [
    "## 4 - Architecture of your model"
   ]
  },
  {
   "cell_type": "code",
   "execution_count": 10,
   "id": "515304f0",
   "metadata": {},
   "outputs": [],
   "source": [
    "model = Sequential()"
   ]
  },
  {
   "cell_type": "code",
   "execution_count": 11,
   "id": "a8ed95b6",
   "metadata": {},
   "outputs": [],
   "source": [
    "layer1 = Flatten(input_shape=(28,28))\n",
    "layer2 = Dense(128, activation='ReLU')\n",
    "layer3 = Dense(10, activation='softmax' )\n",
    "\n",
    "model.add(layer1)\n",
    "model.add(layer2)\n",
    "model.add(layer3)"
   ]
  },
  {
   "cell_type": "markdown",
   "id": "f7f6cd23",
   "metadata": {},
   "source": [
    "## 5 - Compiling your model"
   ]
  },
  {
   "cell_type": "code",
   "execution_count": 12,
   "id": "2b59472c",
   "metadata": {},
   "outputs": [],
   "source": [
    "model.compile(\n",
    "    loss='sparse_categorical_crossentropy',\n",
    "    optimizer='adam',\n",
    "    metrics=['accuracy']\n",
    ")"
   ]
  },
  {
   "cell_type": "code",
   "execution_count": 13,
   "id": "0e8d8e46",
   "metadata": {},
   "outputs": [
    {
     "name": "stdout",
     "output_type": "stream",
     "text": [
      "Epoch 1/19\n",
      "1875/1875 [==============================] - 7s 3ms/step - loss: 0.3211 - accuracy: 0.9103\n",
      "Epoch 2/19\n",
      "1875/1875 [==============================] - 6s 3ms/step - loss: 0.1458 - accuracy: 0.9569\n",
      "Epoch 3/19\n",
      "1875/1875 [==============================] - 6s 3ms/step - loss: 0.0997 - accuracy: 0.9710\n",
      "Epoch 4/19\n",
      "1875/1875 [==============================] - 6s 3ms/step - loss: 0.0755 - accuracy: 0.9768\n",
      "Epoch 5/19\n",
      "1875/1875 [==============================] - 6s 3ms/step - loss: 0.0577 - accuracy: 0.9829\n",
      "Epoch 6/19\n",
      "1875/1875 [==============================] - 6s 3ms/step - loss: 0.0457 - accuracy: 0.9863\n",
      "Epoch 7/19\n",
      "1875/1875 [==============================] - 6s 3ms/step - loss: 0.0368 - accuracy: 0.9892\n",
      "Epoch 8/19\n",
      "1875/1875 [==============================] - 6s 3ms/step - loss: 0.0289 - accuracy: 0.9917\n",
      "Epoch 9/19\n",
      "1875/1875 [==============================] - 6s 3ms/step - loss: 0.0232 - accuracy: 0.9937\n",
      "Epoch 10/19\n",
      "1875/1875 [==============================] - 6s 3ms/step - loss: 0.0188 - accuracy: 0.9947\n",
      "Epoch 11/19\n",
      "1875/1875 [==============================] - 6s 3ms/step - loss: 0.0147 - accuracy: 0.9963\n",
      "Epoch 12/19\n",
      "1875/1875 [==============================] - 6s 3ms/step - loss: 0.0120 - accuracy: 0.9969\n",
      "Epoch 13/19\n",
      "1875/1875 [==============================] - 6s 3ms/step - loss: 0.0099 - accuracy: 0.9975\n",
      "Epoch 14/19\n",
      "1875/1875 [==============================] - 7s 4ms/step - loss: 0.0085 - accuracy: 0.9978: 0s - loss: 0.0083 - accuracy: \n",
      "Epoch 15/19\n",
      "1875/1875 [==============================] - 8s 4ms/step - loss: 0.0069 - accuracy: 0.9984\n",
      "Epoch 16/19\n",
      "1875/1875 [==============================] - 8s 4ms/step - loss: 0.0064 - accuracy: 0.9983\n",
      "Epoch 17/19\n",
      "1875/1875 [==============================] - 6s 3ms/step - loss: 0.0046 - accuracy: 0.9991\n",
      "Epoch 18/19\n",
      "1875/1875 [==============================] - 6s 3ms/step - loss: 0.0048 - accuracy: 0.9989\n",
      "Epoch 19/19\n",
      "1875/1875 [==============================] - 5s 3ms/step - loss: 0.0034 - accuracy: 0.9993\n"
     ]
    },
    {
     "data": {
      "text/plain": [
       "<keras.callbacks.History at 0x20a57effe80>"
      ]
     },
     "execution_count": 13,
     "metadata": {},
     "output_type": "execute_result"
    }
   ],
   "source": [
    "'''\n",
    "from keras import callbacks\n",
    "earlystopping = callbacks.EarlyStopping(monitor =\"val_loss\", \n",
    "                                        mode =\"min\", patience = 5, \n",
    "                                        restore_best_weights = True)\n",
    "  \n",
    "history = model.fit(training_images, labels_train, batch_size = 128, \n",
    "                    epochs = 40, validation_data =(test_images,labels_test), \n",
    "                    callbacks =[earlystopping])\n",
    "'''\n",
    "model.fit(\n",
    "    training_images,\n",
    "    labels_train,\n",
    "    epochs=19\n",
    ")"
   ]
  },
  {
   "cell_type": "markdown",
   "id": "86349073",
   "metadata": {},
   "source": [
    "## 5 - Test your Neural Network Model"
   ]
  },
  {
   "cell_type": "code",
   "execution_count": 14,
   "id": "8b382dd9",
   "metadata": {},
   "outputs": [
    {
     "name": "stdout",
     "output_type": "stream",
     "text": [
      "Number of test examples: 10000\n",
      "Each image is of size: (28, 28)\n"
     ]
    }
   ],
   "source": [
    "print(\"Number of test examples: \" + str(test_images.shape[0]))\n",
    "print(\"Each image is of size: (\" + str(test_images.shape[1]) + \", \" + str(test_images.shape[1])+\")\")"
   ]
  },
  {
   "cell_type": "code",
   "execution_count": 15,
   "id": "617545da",
   "metadata": {},
   "outputs": [
    {
     "name": "stdout",
     "output_type": "stream",
     "text": [
      "313/313 [==============================] - 1s 3ms/step - loss: 0.1148 - accuracy: 0.9753\n"
     ]
    },
    {
     "data": {
      "text/plain": [
       "[0.11482048034667969, 0.9753000140190125]"
      ]
     },
     "execution_count": 15,
     "metadata": {},
     "output_type": "execute_result"
    }
   ],
   "source": [
    "model.evaluate(\n",
    "    test_images,\n",
    "    labels_test\n",
    ")"
   ]
  },
  {
   "cell_type": "code",
   "execution_count": 16,
   "id": "245023d6",
   "metadata": {},
   "outputs": [
    {
     "name": "stdout",
     "output_type": "stream",
     "text": [
      "This image represents a : 6\n"
     ]
    },
    {
     "data": {
      "image/png": "[encoded data removed]",
      "text/plain": [
       "<Figure size 432x288 with 1 Axes>"
      ]
     },
     "metadata": {
      "needs_background": "light"
     },
     "output_type": "display_data"
    }
   ],
   "source": [
    "index = 50\n",
    "assert (0 <= index <= 9999)\n",
    "plt.imshow(test_images[index])\n",
    "print (\"This image represents a : \" + str(labels_test[index]))"
   ]
  },
  {
   "cell_type": "code",
   "execution_count": 17,
   "id": "279e0b83",
   "metadata": {},
   "outputs": [],
   "source": [
    "prediction = model.predict(test_images)"
   ]
  },
  {
   "cell_type": "code",
   "execution_count": 18,
   "id": "0ef880dd",
   "metadata": {},
   "outputs": [
    {
     "name": "stdout",
     "output_type": "stream",
     "text": [
      "Your NN model predicts a : 6  did it get it right ?\n"
     ]
    }
   ],
   "source": [
    "classes = np.argmax(prediction[index])\n",
    "print('Your NN model predicts a : '+ str(classes) + '  did it get it right ?')"
   ]
  }
 ],
 "metadata": {
  "kernelspec": {
   "display_name": "Python 3 (ipykernel)",
   "language": "python",
   "name": "python3"
  },
  "language_info": {
   "codemirror_mode": {
    "name": "ipython",
    "version": 3
   },
   "file_extension": ".py",
   "mimetype": "text/x-python",
   "name": "python",
   "nbconvert_exporter": "python",
   "pygments_lexer": "ipython3",
   "version": "3.8.12"
  }
 },
 "nbformat": 4,
 "nbformat_minor": 5
}
